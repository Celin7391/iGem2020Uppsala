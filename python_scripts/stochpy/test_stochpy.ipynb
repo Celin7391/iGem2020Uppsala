{
 "cells": [
  {
   "cell_type": "code",
   "execution_count": 1,
   "metadata": {},
   "outputs": [
    {
     "ename": "ModuleNotFoundError",
     "evalue": "No module named 'stochpy'",
     "output_type": "error",
     "traceback": [
      "\u001b[0;31m---------------------------------------------------------------------------\u001b[0m",
      "\u001b[0;31mModuleNotFoundError\u001b[0m                       Traceback (most recent call last)",
      "\u001b[0;32m<ipython-input-1-359a43be0cf7>\u001b[0m in \u001b[0;36m<module>\u001b[0;34m\u001b[0m\n\u001b[0;32m----> 1\u001b[0;31m \u001b[0;32mimport\u001b[0m \u001b[0mstochpy\u001b[0m\u001b[0;34m\u001b[0m\u001b[0;34m\u001b[0m\u001b[0m\n\u001b[0m\u001b[1;32m      2\u001b[0m \u001b[0msmod\u001b[0m \u001b[0;34m=\u001b[0m \u001b[0mstochpy\u001b[0m\u001b[0;34m.\u001b[0m\u001b[0mSSA\u001b[0m\u001b[0;34m(\u001b[0m\u001b[0mIsQuiet\u001b[0m\u001b[0;34m=\u001b[0m\u001b[0;32mTrue\u001b[0m\u001b[0;34m)\u001b[0m\u001b[0;34m\u001b[0m\u001b[0;34m\u001b[0m\u001b[0m\n\u001b[1;32m      3\u001b[0m \u001b[0;31m# required for iPython Notebook inline plotting\u001b[0m\u001b[0;34m\u001b[0m\u001b[0;34m\u001b[0m\u001b[0;34m\u001b[0m\u001b[0m\n\u001b[1;32m      4\u001b[0m \u001b[0mget_ipython\u001b[0m\u001b[0;34m(\u001b[0m\u001b[0;34m)\u001b[0m\u001b[0;34m.\u001b[0m\u001b[0mrun_line_magic\u001b[0m\u001b[0;34m(\u001b[0m\u001b[0;34m'matplotlib'\u001b[0m\u001b[0;34m,\u001b[0m \u001b[0;34m'inline'\u001b[0m\u001b[0;34m)\u001b[0m\u001b[0;34m\u001b[0m\u001b[0;34m\u001b[0m\u001b[0m\n",
      "\u001b[0;31mModuleNotFoundError\u001b[0m: No module named 'stochpy'"
     ]
    }
   ],
   "source": [
    "import stochpy\n",
    "smod = stochpy.SSA(IsQuiet=True)\n",
    "# required for iPython Notebook inline plotting\n",
    "%matplotlib inline"
   ]
  },
  {
   "cell_type": "code",
   "execution_count": null,
   "metadata": {},
   "outputs": [],
   "source": [
    "smod.DoStochSim(IsTrackPropensities=True)\n",
    "smod.PlotSpeciesTimeSeries()\n",
    "smod.PlotPropensitiesTimeSeries()"
   ]
  },
  {
   "cell_type": "code",
   "execution_count": null,
   "metadata": {},
   "outputs": [],
   "source": [
    "# Show the means from the data of last generated trajectory\n",
    "smod.Model('ImmigrationDeath.psc')\n",
    "smod.DoStochSim(trajectories=3,end=10**3) # multiple trajectories\n",
    "print(smod.data_stochsim.simulation_trajectory)\n",
    "smod.PrintSpeciesMeans()\n",
    "smod.PrintSpeciesStandardDeviations()"
   ]
  },
  {
   "cell_type": "code",
   "execution_count": null,
   "metadata": {},
   "outputs": [],
   "source": [
    "# Switch to data from trajectory 1 and show the means of each species\n",
    "smod.GetTrajectoryData(1)\n",
    "smod.PrintSpeciesMeans()\n",
    "smod.PrintSpeciesStandardDeviations()"
   ]
  },
  {
   "cell_type": "code",
   "execution_count": null,
   "metadata": {},
   "outputs": [],
   "source": [
    "# Do one long simulation\n",
    "smod.DoStochSim(trajectories=1,end=10**6,mode='steps')\n",
    "smod.PrintSpeciesMeans()\n",
    "smod.PrintSpeciesStandardDeviations()"
   ]
  },
  {
   "cell_type": "code",
   "execution_count": null,
   "metadata": {},
   "outputs": [],
   "source": [
    "# Plot the PDF for different bin sizes\n",
    "smod.PlotSpeciesDistributions()\n",
    "smod.PlotSpeciesDistributions(bin_size=5)  # larger bin size\n",
    "smod.Export2File(analysis='distribution',datatype='species')"
   ]
  },
  {
   "cell_type": "code",
   "execution_count": null,
   "metadata": {},
   "outputs": [],
   "source": [
    "smod.Model('DecayingDimerizing.psc')\n",
    "smod.DoStochSim(method='tauleaping',end=50,mode='time')\n",
    "smod.PlotSpeciesTimeSeries()\n",
    "stochpy.plt.xscale('log')"
   ]
  },
  {
   "cell_type": "code",
   "execution_count": null,
   "metadata": {},
   "outputs": [],
   "source": [
    "# Model modification\n",
    "smod = stochpy.SSA() # loads the default immigration-death model\n",
    "smod.ChangeParameter('Ksyn',20.0)\n",
    "smod.ChangeParameter('Kdeg',0.2)\n",
    "smod.ChangeInitialSpeciesCopyNumber('mRNA',100)\n",
    "smod.DoStochSim(end=10**5)\n",
    "smod.PrintSpeciesMeans()   # should be ~Ksyn/Kdeg"
   ]
  },
  {
   "cell_type": "code",
   "execution_count": null,
   "metadata": {},
   "outputs": [],
   "source": [
    "# Import a model written in SBML and generate a regular grid to compare different trajectories\n",
    "smod.Model('dsmts-001-01.xml')\n",
    "smod.DoStochSim(trajectories=100,end=50,mode='time') \n",
    "smod.GetRegularGrid()\n",
    "smod.PlotAverageSpeciesTimeSeries()\n",
    "smod.Export2File(datatype='species',analysis='timeseries',IsAverage=True)"
   ]
  },
  {
   "cell_type": "code",
   "execution_count": null,
   "metadata": {},
   "outputs": [],
   "source": [
    "# Test a model with a time event\n",
    "smod.Model('dsmts-003-03.xml.psc') \n",
    "smod.DoStochSim(trajectories=1000,end=50,mode='time')\n",
    "smod.GetRegularGrid()\n",
    "smod.PlotAverageSpeciesTimeSeries()"
   ]
  },
  {
   "cell_type": "code",
   "execution_count": null,
   "metadata": {},
   "outputs": [],
   "source": [
    "# Use the First Reaction method to test a model with a species amount event \n",
    "smod.Model('dsmts-003-04.xml.psc') \n",
    "smod.DoStochSim(method = 'FirstReactionMethod',trajectories=1000,end=50,mode='time')\n",
    "smod.GetRegularGrid()\n",
    "smod.PlotAverageSpeciesTimeSeries()"
   ]
  },
  {
   "cell_type": "code",
   "execution_count": null,
   "metadata": {},
   "outputs": [],
   "source": [
    "# Volume Models\n",
    "smod.Model('dsmts-001-11.xml.psc') \n",
    "smod.DoStochSim(method = 'Direct',trajectories=100,end=50,mode ='time')\n",
    "smod.GetRegularGrid()\n",
    "smod.PlotAverageSpeciesTimeSeries()"
   ]
  },
  {
   "cell_type": "code",
   "execution_count": null,
   "metadata": {},
   "outputs": [],
   "source": [
    "smod.DoStochSim(trajectories=10,end=10**5)\n",
    "smod.GetRegularGrid(n_samples=51)\n",
    "smod.PlotAverageSpeciesDistributions()\n",
    "smod.PlotAverageSpeciesDistributionsConfidenceIntervals(nstd=2)"
   ]
  },
  {
   "cell_type": "code",
   "execution_count": null,
   "metadata": {},
   "outputs": [],
   "source": []
  }
 ],
 "metadata": {
  "kernelspec": {
   "display_name": "Python 3",
   "language": "python",
   "name": "python3"
  },
  "language_info": {
   "codemirror_mode": {
    "name": "ipython",
    "version": 3
   },
   "file_extension": ".py",
   "mimetype": "text/x-python",
   "name": "python",
   "nbconvert_exporter": "python",
   "pygments_lexer": "ipython3",
   "version": "3.7.3"
  }
 },
 "nbformat": 4,
 "nbformat_minor": 2
}
